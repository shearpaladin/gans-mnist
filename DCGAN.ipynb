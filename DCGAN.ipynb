{
 "cells": [
  {
   "cell_type": "code",
   "execution_count": 1,
   "metadata": {},
   "outputs": [
    {
     "name": "stderr",
     "output_type": "stream",
     "text": [
      "Using TensorFlow backend.\n"
     ]
    }
   ],
   "source": [
    "from sklearn.utils import shuffle\n",
    "from keras.datasets import mnist\n",
    "import pandas as pd\n",
    "import matplotlib.pyplot as plt\n",
    "import matplotlib.image as mpimg\n",
    "from sklearn.model_selection import train_test_split\n",
    "from sklearn.metrics import confusion_matrix\n",
    "import itertools\n",
    "from keras.utils.np_utils import to_categorical # convert to one-hot-encoding\n",
    "from keras.models import Sequential, load_model\n",
    "from keras.layers import Dense, LeakyReLU,ZeroPadding2D, Dropout, Flatten, Conv2D, MaxPool2D, Activation, BatchNormalization, MaxPooling2D, Reshape, UpSampling2D, MaxPooling2D\n",
    "from keras.optimizers import RMSprop\n",
    "from keras.preprocessing.image import ImageDataGenerator\n",
    "from keras.callbacks import ModelCheckpoint\n",
    "from keras import models\n",
    "from collections import Counter\n",
    "from keras.layers.core import Flatten\n",
    "from keras.optimizers import SGD\n",
    "from keras.datasets import mnist\n",
    "from keras.models import load_model, Model\n",
    "import numpy as np\n",
    "from PIL import Image\n",
    "import argparse\n",
    "import math"
   ]
  },
  {
   "cell_type": "markdown",
   "metadata": {},
   "source": [
    "### DCGAN"
   ]
  },
  {
   "cell_type": "markdown",
   "metadata": {},
   "source": [
    "Le code du dcgan se trouve dans dcgan.py, pour l'executer :"
   ]
  },
  {
   "cell_type": "markdown",
   "metadata": {},
   "source": [
    "python dcgan.py"
   ]
  },
  {
   "cell_type": "markdown",
   "metadata": {},
   "source": [
    "les models (generateur et discrimant) se trouvent dans : models/gans/dcgan\n",
    "\n",
    "les images généres par le GAN tout au long du training se trouvent dans : models/dcgan"
   ]
  },
  {
   "cell_type": "markdown",
   "metadata": {},
   "source": [
    "### Recuperation du discriminateur"
   ]
  },
  {
   "cell_type": "code",
   "execution_count": 23,
   "metadata": {},
   "outputs": [],
   "source": [
    "discriminator = load_model(\"models/gans/dcgan/discrimant.hdf5\")"
   ]
  },
  {
   "cell_type": "code",
   "execution_count": 24,
   "metadata": {},
   "outputs": [],
   "source": [
    "output = discriminator.get_layer(\"dropout_1\").output\n",
    "x = Dense(10, activation='softmax',name='logits')(output)"
   ]
  },
  {
   "cell_type": "code",
   "execution_count": 25,
   "metadata": {},
   "outputs": [],
   "source": [
    "new_model = Model(discriminator.input, x)"
   ]
  },
  {
   "cell_type": "code",
   "execution_count": 26,
   "metadata": {},
   "outputs": [
    {
     "name": "stdout",
     "output_type": "stream",
     "text": [
      "_________________________________________________________________\n",
      "Layer (type)                 Output Shape              Param #   \n",
      "=================================================================\n",
      "conv2d_1_input (InputLayer)  (None, 28, 28, 1)         0         \n",
      "_________________________________________________________________\n",
      "conv2d_1 (Conv2D)            (None, 26, 26, 32)        320       \n",
      "_________________________________________________________________\n",
      "activation_1 (Activation)    (None, 26, 26, 32)        0         \n",
      "_________________________________________________________________\n",
      "batch_normalization_1 (Batch (None, 26, 26, 32)        128       \n",
      "_________________________________________________________________\n",
      "conv2d_2 (Conv2D)            (None, 24, 24, 32)        9248      \n",
      "_________________________________________________________________\n",
      "activation_2 (Activation)    (None, 24, 24, 32)        0         \n",
      "_________________________________________________________________\n",
      "max_pooling2d_1 (MaxPooling2 (None, 12, 12, 32)        0         \n",
      "_________________________________________________________________\n",
      "batch_normalization_2 (Batch (None, 12, 12, 32)        128       \n",
      "_________________________________________________________________\n",
      "conv2d_3 (Conv2D)            (None, 10, 10, 64)        18496     \n",
      "_________________________________________________________________\n",
      "activation_3 (Activation)    (None, 10, 10, 64)        0         \n",
      "_________________________________________________________________\n",
      "batch_normalization_3 (Batch (None, 10, 10, 64)        256       \n",
      "_________________________________________________________________\n",
      "conv2d_4 (Conv2D)            (None, 8, 8, 64)          36928     \n",
      "_________________________________________________________________\n",
      "activation_4 (Activation)    (None, 8, 8, 64)          0         \n",
      "_________________________________________________________________\n",
      "max_pooling2d_2 (MaxPooling2 (None, 4, 4, 64)          0         \n",
      "_________________________________________________________________\n",
      "flatten_1 (Flatten)          (None, 1024)              0         \n",
      "_________________________________________________________________\n",
      "dense_1 (Dense)              (None, 256)               262400    \n",
      "_________________________________________________________________\n",
      "dropout_1 (Dropout)          (None, 256)               0         \n",
      "_________________________________________________________________\n",
      "logits (Dense)               (None, 10)                2570      \n",
      "=================================================================\n",
      "Total params: 330,474\n",
      "Trainable params: 330,218\n",
      "Non-trainable params: 256\n",
      "_________________________________________________________________\n"
     ]
    }
   ],
   "source": [
    "new_model.summary()"
   ]
  },
  {
   "cell_type": "markdown",
   "metadata": {},
   "source": [
    "### Training"
   ]
  },
  {
   "cell_type": "code",
   "execution_count": 27,
   "metadata": {},
   "outputs": [],
   "source": [
    "(train_images, train_labels), (test_images, test_labels) = mnist.load_data()\n",
    "train_images = train_images / 127.5 - 1.\n",
    "test_images = test_images / 127.5 - 1.\n",
    "\n",
    "train_images = np.expand_dims(train_images, axis=3)\n",
    "test_images = np.expand_dims(test_images, axis=3)\n",
    "\n",
    "# train_labels = to_categorical(train_labels) \n",
    "test_labels = to_categorical(test_labels)\n",
    "\n",
    "\n",
    "x, y = shuffle(train_images, train_labels, random_state=15)\n",
    "x_train = x[0:100]\n",
    "y_train = y[0:100].reshape(-1, 1)\n",
    "y_train = to_categorical(y_train) "
   ]
  },
  {
   "cell_type": "code",
   "execution_count": null,
   "metadata": {},
   "outputs": [],
   "source": []
  },
  {
   "cell_type": "markdown",
   "metadata": {},
   "source": [
    "# Sans data Augmentation"
   ]
  },
  {
   "cell_type": "code",
   "execution_count": 30,
   "metadata": {},
   "outputs": [
    {
     "name": "stdout",
     "output_type": "stream",
     "text": [
      "Train on 100 samples, validate on 10000 samples\n",
      "Epoch 1/60\n",
      "100/100 [==============================] - 2s 19ms/step - loss: 0.0328 - acc: 0.9900 - val_loss: 0.2247 - val_acc: 0.9416\n",
      "Epoch 2/60\n",
      "100/100 [==============================] - 1s 6ms/step - loss: 0.0103 - acc: 1.0000 - val_loss: 0.5591 - val_acc: 0.8799\n",
      "Epoch 3/60\n",
      "100/100 [==============================] - 1s 7ms/step - loss: 0.0252 - acc: 0.9900 - val_loss: 0.2876 - val_acc: 0.9291\n",
      "Epoch 4/60\n",
      "100/100 [==============================] - 1s 6ms/step - loss: 0.0132 - acc: 1.0000 - val_loss: 0.4728 - val_acc: 0.8964\n",
      "Epoch 5/60\n",
      "100/100 [==============================] - 1s 7ms/step - loss: 0.1002 - acc: 0.9900 - val_loss: 0.3756 - val_acc: 0.9155\n",
      "Epoch 6/60\n",
      "100/100 [==============================] - 1s 6ms/step - loss: 0.0190 - acc: 0.9900 - val_loss: 0.5529 - val_acc: 0.8829\n",
      "Epoch 7/60\n",
      "100/100 [==============================] - 1s 6ms/step - loss: 0.0240 - acc: 0.9900 - val_loss: 0.6915 - val_acc: 0.8547\n",
      "Epoch 8/60\n",
      "100/100 [==============================] - 1s 6ms/step - loss: 0.0777 - acc: 0.9800 - val_loss: 0.7892 - val_acc: 0.8375\n",
      "Epoch 9/60\n",
      "100/100 [==============================] - 1s 6ms/step - loss: 0.0029 - acc: 1.0000 - val_loss: 0.8635 - val_acc: 0.8341\n",
      "Epoch 10/60\n",
      "100/100 [==============================] - 1s 6ms/step - loss: 0.1497 - acc: 0.9700 - val_loss: 0.5897 - val_acc: 0.8671\n",
      "Epoch 11/60\n",
      "100/100 [==============================] - 1s 6ms/step - loss: 0.1052 - acc: 0.9900 - val_loss: 0.6417 - val_acc: 0.8608\n",
      "Epoch 12/60\n",
      "100/100 [==============================] - 1s 6ms/step - loss: 0.0035 - acc: 1.0000 - val_loss: 0.6241 - val_acc: 0.8720\n",
      "Epoch 13/60\n",
      "100/100 [==============================] - 1s 6ms/step - loss: 0.1264 - acc: 0.9700 - val_loss: 0.5055 - val_acc: 0.8958\n",
      "Epoch 14/60\n",
      "100/100 [==============================] - 1s 7ms/step - loss: 0.0274 - acc: 0.9900 - val_loss: 0.5141 - val_acc: 0.8929\n",
      "Epoch 15/60\n",
      "100/100 [==============================] - 1s 7ms/step - loss: 0.0254 - acc: 0.9800 - val_loss: 0.6762 - val_acc: 0.8649\n",
      "Epoch 16/60\n",
      "100/100 [==============================] - 1s 6ms/step - loss: 0.0613 - acc: 0.9700 - val_loss: 1.0381 - val_acc: 0.8171\n",
      "Epoch 17/60\n",
      "100/100 [==============================] - 1s 7ms/step - loss: 0.0366 - acc: 0.9800 - val_loss: 1.1855 - val_acc: 0.8030\n",
      "Epoch 18/60\n",
      "100/100 [==============================] - 1s 6ms/step - loss: 0.1207 - acc: 0.9500 - val_loss: 1.1424 - val_acc: 0.8135\n",
      "Epoch 19/60\n",
      "100/100 [==============================] - 1s 6ms/step - loss: 0.0608 - acc: 0.9800 - val_loss: 0.8986 - val_acc: 0.8431\n",
      "Epoch 20/60\n",
      "100/100 [==============================] - 1s 7ms/step - loss: 0.0478 - acc: 0.9800 - val_loss: 0.7137 - val_acc: 0.8705\n",
      "Epoch 21/60\n",
      "100/100 [==============================] - 1s 7ms/step - loss: 0.0325 - acc: 0.9900 - val_loss: 0.5878 - val_acc: 0.8895\n",
      "Epoch 22/60\n",
      "100/100 [==============================] - 1s 7ms/step - loss: 0.2019 - acc: 0.9700 - val_loss: 0.4618 - val_acc: 0.9047\n",
      "Epoch 23/60\n",
      "100/100 [==============================] - 1s 6ms/step - loss: 0.0013 - acc: 1.0000 - val_loss: 0.4051 - val_acc: 0.9103\n",
      "Epoch 24/60\n",
      "100/100 [==============================] - 1s 6ms/step - loss: 0.0039 - acc: 1.0000 - val_loss: 0.4011 - val_acc: 0.9090\n",
      "Epoch 25/60\n",
      "100/100 [==============================] - 1s 6ms/step - loss: 0.0370 - acc: 0.9800 - val_loss: 0.3756 - val_acc: 0.9154\n",
      "Epoch 26/60\n",
      "100/100 [==============================] - 1s 6ms/step - loss: 0.0089 - acc: 1.0000 - val_loss: 0.4347 - val_acc: 0.9107\n",
      "Epoch 27/60\n",
      "100/100 [==============================] - 1s 6ms/step - loss: 0.0036 - acc: 1.0000 - val_loss: 0.5225 - val_acc: 0.8991\n",
      "Epoch 28/60\n",
      "100/100 [==============================] - 1s 6ms/step - loss: 0.0023 - acc: 1.0000 - val_loss: 0.6325 - val_acc: 0.8853\n",
      "Epoch 29/60\n",
      "100/100 [==============================] - 1s 7ms/step - loss: 0.0011 - acc: 1.0000 - val_loss: 0.7098 - val_acc: 0.8787\n",
      "Epoch 30/60\n",
      "100/100 [==============================] - 1s 6ms/step - loss: 0.0128 - acc: 1.0000 - val_loss: 0.6596 - val_acc: 0.8868\n",
      "Epoch 31/60\n",
      "100/100 [==============================] - 1s 6ms/step - loss: 0.0743 - acc: 0.9900 - val_loss: 0.4915 - val_acc: 0.9082\n",
      "Epoch 32/60\n",
      "100/100 [==============================] - 1s 6ms/step - loss: 0.0012 - acc: 1.0000 - val_loss: 0.4653 - val_acc: 0.9110\n",
      "Epoch 33/60\n",
      "100/100 [==============================] - 1s 6ms/step - loss: 4.5569e-04 - acc: 1.0000 - val_loss: 0.4652 - val_acc: 0.9092\n",
      "Epoch 34/60\n",
      "100/100 [==============================] - 1s 6ms/step - loss: 8.1910e-04 - acc: 1.0000 - val_loss: 0.4706 - val_acc: 0.9074\n",
      "Epoch 35/60\n",
      "100/100 [==============================] - 1s 6ms/step - loss: 6.0185e-05 - acc: 1.0000 - val_loss: 0.4723 - val_acc: 0.9066\n",
      "Epoch 36/60\n",
      "100/100 [==============================] - 1s 6ms/step - loss: 3.4303e-04 - acc: 1.0000 - val_loss: 0.4727 - val_acc: 0.9063\n",
      "Epoch 37/60\n",
      "100/100 [==============================] - 1s 7ms/step - loss: 0.0098 - acc: 0.9900 - val_loss: 0.4464 - val_acc: 0.9111\n",
      "Epoch 38/60\n",
      "100/100 [==============================] - 1s 6ms/step - loss: 5.2128e-04 - acc: 1.0000 - val_loss: 0.4164 - val_acc: 0.9171\n",
      "Epoch 39/60\n",
      "100/100 [==============================] - 1s 7ms/step - loss: 2.9252e-04 - acc: 1.0000 - val_loss: 0.3992 - val_acc: 0.9209\n",
      "Epoch 40/60\n",
      "100/100 [==============================] - 1s 6ms/step - loss: 1.4603e-04 - acc: 1.0000 - val_loss: 0.3867 - val_acc: 0.9238\n",
      "Epoch 41/60\n",
      "100/100 [==============================] - 1s 6ms/step - loss: 8.5330e-04 - acc: 1.0000 - val_loss: 0.3789 - val_acc: 0.9252\n",
      "Epoch 42/60\n",
      "100/100 [==============================] - 1s 6ms/step - loss: 0.0016 - acc: 1.0000 - val_loss: 0.3717 - val_acc: 0.9263\n",
      "Epoch 43/60\n",
      "100/100 [==============================] - 1s 6ms/step - loss: 7.4516e-04 - acc: 1.0000 - val_loss: 0.3634 - val_acc: 0.9272\n",
      "Epoch 44/60\n",
      "100/100 [==============================] - 1s 6ms/step - loss: 1.2833e-05 - acc: 1.0000 - val_loss: 0.3586 - val_acc: 0.9282\n",
      "Epoch 45/60\n",
      "100/100 [==============================] - 1s 7ms/step - loss: 9.0570e-05 - acc: 1.0000 - val_loss: 0.3542 - val_acc: 0.9286\n",
      "Epoch 46/60\n",
      "100/100 [==============================] - 1s 6ms/step - loss: 1.1618e-04 - acc: 1.0000 - val_loss: 0.3506 - val_acc: 0.9292\n",
      "Epoch 47/60\n",
      "100/100 [==============================] - 1s 6ms/step - loss: 3.7055e-04 - acc: 1.0000 - val_loss: 0.3475 - val_acc: 0.9304\n",
      "Epoch 48/60\n",
      "100/100 [==============================] - 1s 6ms/step - loss: 9.0487e-06 - acc: 1.0000 - val_loss: 0.3446 - val_acc: 0.9310\n",
      "Epoch 49/60\n",
      "100/100 [==============================] - 1s 7ms/step - loss: 0.0093 - acc: 0.9900 - val_loss: 0.3462 - val_acc: 0.9311\n",
      "Epoch 50/60\n",
      "100/100 [==============================] - 1s 6ms/step - loss: 0.0108 - acc: 0.9900 - val_loss: 0.3646 - val_acc: 0.9291\n",
      "Epoch 51/60\n",
      "100/100 [==============================] - 1s 6ms/step - loss: 0.0011 - acc: 1.0000 - val_loss: 0.3928 - val_acc: 0.9238\n",
      "Epoch 52/60\n",
      "100/100 [==============================] - 1s 6ms/step - loss: 7.2126e-05 - acc: 1.0000 - val_loss: 0.4171 - val_acc: 0.9198\n",
      "Epoch 53/60\n",
      "100/100 [==============================] - 1s 6ms/step - loss: 1.4414e-04 - acc: 1.0000 - val_loss: 0.4389 - val_acc: 0.9160\n",
      "Epoch 54/60\n",
      "100/100 [==============================] - 1s 7ms/step - loss: 0.0017 - acc: 1.0000 - val_loss: 0.4471 - val_acc: 0.9153\n",
      "Epoch 55/60\n",
      "100/100 [==============================] - 1s 6ms/step - loss: 0.0080 - acc: 0.9900 - val_loss: 0.4409 - val_acc: 0.9153\n",
      "Epoch 56/60\n",
      "100/100 [==============================] - 1s 6ms/step - loss: 3.4670e-04 - acc: 1.0000 - val_loss: 0.4357 - val_acc: 0.9164\n",
      "Epoch 57/60\n",
      "100/100 [==============================] - 1s 6ms/step - loss: 2.2534e-05 - acc: 1.0000 - val_loss: 0.4330 - val_acc: 0.9178\n",
      "Epoch 58/60\n",
      "100/100 [==============================] - 1s 6ms/step - loss: 3.4796e-04 - acc: 1.0000 - val_loss: 0.4252 - val_acc: 0.9203\n",
      "Epoch 59/60\n",
      "100/100 [==============================] - 1s 7ms/step - loss: 1.1506e-04 - acc: 1.0000 - val_loss: 0.4185 - val_acc: 0.9218\n",
      "Epoch 60/60\n",
      "100/100 [==============================] - 1s 7ms/step - loss: 2.7691e-04 - acc: 1.0000 - val_loss: 0.4096 - val_acc: 0.9241\n"
     ]
    }
   ],
   "source": [
    "mcp = ModelCheckpoint(\"models/dcgan_best.h5\", monitor='val_acc', verbose=0, save_best_only=True, mode='auto')\n",
    "new_model.compile(loss='categorical_crossentropy', optimizer = \"adam\", metrics = [\"accuracy\"])\n",
    "\n",
    "history = new_model.fit(x_train, y_train, validation_data=(test_images, test_labels), epochs=60, callbacks=[mcp])"
   ]
  },
  {
   "cell_type": "markdown",
   "metadata": {},
   "source": [
    "### best accuracy"
   ]
  },
  {
   "cell_type": "code",
   "execution_count": 31,
   "metadata": {},
   "outputs": [
    {
     "name": "stdout",
     "output_type": "stream",
     "text": [
      "10000/10000 [==============================] - 1s 104us/step\n"
     ]
    },
    {
     "data": {
      "text/plain": [
       "0.9416"
      ]
     },
     "execution_count": 31,
     "metadata": {},
     "output_type": "execute_result"
    }
   ],
   "source": [
    "test_model = load_model(\"models/dcgan_best.h5\")\n",
    "test_loss, test_acc = test_model.evaluate(test_images, test_labels)\n",
    "test_acc"
   ]
  },
  {
   "cell_type": "markdown",
   "metadata": {},
   "source": [
    "# Avec data Augmentation"
   ]
  },
  {
   "cell_type": "code",
   "execution_count": 7,
   "metadata": {},
   "outputs": [],
   "source": [
    "mcp = ModelCheckpoint(\"models/dcgan_aug_best.h5\", monitor='val_acc', verbose=0, save_best_only=True, mode='auto')\n",
    "new_model.compile(loss='categorical_crossentropy', optimizer = \"adam\", metrics = [\"accuracy\"])"
   ]
  },
  {
   "cell_type": "code",
   "execution_count": 8,
   "metadata": {},
   "outputs": [],
   "source": [
    "datagen = ImageDataGenerator(\n",
    "        rotation_range=10,  # randomly rotate images in the range (degrees, 0 to 180)\n",
    "        zoom_range = 0.1, # Randomly zoom image \n",
    "        width_shift_range=0.1,  # randomly shift images horizontally (fraction of total width)\n",
    "        height_shift_range=0.1)  # randomly flip images\n",
    "\n",
    "datagen.fit(x_train)"
   ]
  },
  {
   "cell_type": "code",
   "execution_count": 9,
   "metadata": {},
   "outputs": [
    {
     "name": "stdout",
     "output_type": "stream",
     "text": [
      "Epoch 1/50\n",
      "20/20 [==============================] - 6s 275ms/step - loss: 2.2720 - acc: 0.2579 - val_loss: 2.0610 - val_acc: 0.4039\n",
      "Epoch 2/50\n",
      "20/20 [==============================] - 4s 185ms/step - loss: 1.4856 - acc: 0.4710 - val_loss: 1.4048 - val_acc: 0.5326\n",
      "Epoch 3/50\n",
      "20/20 [==============================] - 4s 181ms/step - loss: 1.0748 - acc: 0.6507 - val_loss: 1.2486 - val_acc: 0.5781\n",
      "Epoch 4/50\n",
      "20/20 [==============================] - 4s 192ms/step - loss: 0.8514 - acc: 0.7133 - val_loss: 0.7828 - val_acc: 0.7315\n",
      "Epoch 5/50\n",
      "20/20 [==============================] - 4s 187ms/step - loss: 0.7126 - acc: 0.7570 - val_loss: 0.6169 - val_acc: 0.7942\n",
      "Epoch 6/50\n",
      "20/20 [==============================] - 4s 184ms/step - loss: 0.6199 - acc: 0.7798 - val_loss: 0.4287 - val_acc: 0.8736\n",
      "Epoch 7/50\n",
      "20/20 [==============================] - 4s 180ms/step - loss: 0.3949 - acc: 0.8453 - val_loss: 0.2482 - val_acc: 0.9260\n",
      "Epoch 8/50\n",
      "20/20 [==============================] - 4s 181ms/step - loss: 0.3954 - acc: 0.8681 - val_loss: 0.2763 - val_acc: 0.9167\n",
      "Epoch 9/50\n",
      "20/20 [==============================] - 4s 184ms/step - loss: 0.4114 - acc: 0.8457 - val_loss: 0.4789 - val_acc: 0.8612\n",
      "Epoch 10/50\n",
      "20/20 [==============================] - 4s 188ms/step - loss: 0.4309 - acc: 0.8737 - val_loss: 0.3432 - val_acc: 0.9031\n",
      "Epoch 11/50\n",
      "20/20 [==============================] - 4s 183ms/step - loss: 0.2849 - acc: 0.9111 - val_loss: 0.2575 - val_acc: 0.9209\n",
      "Epoch 12/50\n",
      "20/20 [==============================] - 4s 186ms/step - loss: 0.2007 - acc: 0.9446 - val_loss: 0.1917 - val_acc: 0.9411\n",
      "Epoch 13/50\n",
      "20/20 [==============================] - 4s 183ms/step - loss: 0.2041 - acc: 0.9237 - val_loss: 0.2036 - val_acc: 0.9385\n",
      "Epoch 14/50\n",
      "20/20 [==============================] - 4s 181ms/step - loss: 0.1903 - acc: 0.9389 - val_loss: 0.1823 - val_acc: 0.9461\n",
      "Epoch 15/50\n",
      "20/20 [==============================] - 4s 180ms/step - loss: 0.3627 - acc: 0.9054 - val_loss: 0.3638 - val_acc: 0.8901\n",
      "Epoch 16/50\n",
      "20/20 [==============================] - 4s 184ms/step - loss: 0.4111 - acc: 0.8627 - val_loss: 0.7810 - val_acc: 0.7799\n",
      "Epoch 17/50\n",
      "20/20 [==============================] - 4s 182ms/step - loss: 0.3425 - acc: 0.8928 - val_loss: 2.3282 - val_acc: 0.6016\n",
      "Epoch 18/50\n",
      "20/20 [==============================] - 4s 181ms/step - loss: 0.4596 - acc: 0.8921 - val_loss: 0.8047 - val_acc: 0.7880\n",
      "Epoch 19/50\n",
      "20/20 [==============================] - 4s 184ms/step - loss: 0.3592 - acc: 0.8753 - val_loss: 0.4063 - val_acc: 0.8664\n",
      "Epoch 20/50\n",
      "20/20 [==============================] - 4s 182ms/step - loss: 0.1582 - acc: 0.9446 - val_loss: 0.2569 - val_acc: 0.9296\n",
      "Epoch 21/50\n",
      "20/20 [==============================] - 4s 180ms/step - loss: 0.1263 - acc: 0.9554 - val_loss: 0.2549 - val_acc: 0.9373\n",
      "Epoch 22/50\n",
      "20/20 [==============================] - 4s 181ms/step - loss: 0.1896 - acc: 0.9149 - val_loss: 0.3514 - val_acc: 0.9072\n",
      "Epoch 23/50\n",
      "20/20 [==============================] - 4s 183ms/step - loss: 0.1821 - acc: 0.9516 - val_loss: 0.3135 - val_acc: 0.9140\n",
      "Epoch 24/50\n",
      "20/20 [==============================] - 4s 189ms/step - loss: 0.1395 - acc: 0.9307 - val_loss: 0.2506 - val_acc: 0.9356\n",
      "Epoch 25/50\n",
      "20/20 [==============================] - 4s 182ms/step - loss: 0.1341 - acc: 0.9484 - val_loss: 0.2700 - val_acc: 0.9371\n",
      "Epoch 26/50\n",
      "20/20 [==============================] - 4s 181ms/step - loss: 0.1039 - acc: 0.9747 - val_loss: 0.1846 - val_acc: 0.9525\n",
      "Epoch 27/50\n",
      "20/20 [==============================] - 4s 184ms/step - loss: 0.1101 - acc: 0.9706 - val_loss: 0.2071 - val_acc: 0.9459\n",
      "Epoch 28/50\n",
      "20/20 [==============================] - 4s 182ms/step - loss: 0.1201 - acc: 0.9554 - val_loss: 0.2790 - val_acc: 0.9263\n",
      "Epoch 29/50\n",
      "20/20 [==============================] - 4s 183ms/step - loss: 0.0765 - acc: 0.9794 - val_loss: 0.3121 - val_acc: 0.9220\n",
      "Epoch 30/50\n",
      "20/20 [==============================] - 4s 181ms/step - loss: 0.0484 - acc: 0.9889 - val_loss: 0.2679 - val_acc: 0.9336\n",
      "Epoch 31/50\n",
      "20/20 [==============================] - 4s 182ms/step - loss: 0.0832 - acc: 0.9747 - val_loss: 0.1969 - val_acc: 0.9547\n",
      "Epoch 32/50\n",
      "20/20 [==============================] - 4s 181ms/step - loss: 0.0669 - acc: 0.9842 - val_loss: 0.3545 - val_acc: 0.9308\n",
      "Epoch 33/50\n",
      "20/20 [==============================] - 4s 184ms/step - loss: 0.0894 - acc: 0.9658 - val_loss: 0.2827 - val_acc: 0.9377\n",
      "Epoch 34/50\n",
      "20/20 [==============================] - 4s 184ms/step - loss: 0.0945 - acc: 0.9753 - val_loss: 0.2847 - val_acc: 0.9377\n",
      "Epoch 35/50\n",
      "20/20 [==============================] - 4s 189ms/step - loss: 0.1329 - acc: 0.9595 - val_loss: 0.5638 - val_acc: 0.8952\n",
      "Epoch 36/50\n",
      "20/20 [==============================] - 4s 181ms/step - loss: 0.0766 - acc: 0.9794 - val_loss: 0.9188 - val_acc: 0.8547\n",
      "Epoch 37/50\n",
      "20/20 [==============================] - 4s 182ms/step - loss: 0.3543 - acc: 0.9153 - val_loss: 0.6894 - val_acc: 0.8693\n",
      "Epoch 38/50\n",
      "20/20 [==============================] - 4s 181ms/step - loss: 0.3112 - acc: 0.9206 - val_loss: 0.4116 - val_acc: 0.9224\n",
      "Epoch 39/50\n",
      "20/20 [==============================] - 4s 203ms/step - loss: 0.2738 - acc: 0.9333 - val_loss: 0.8449 - val_acc: 0.8737\n",
      "Epoch 40/50\n",
      "20/20 [==============================] - 4s 209ms/step - loss: 0.3485 - acc: 0.9038 - val_loss: 0.6629 - val_acc: 0.8804\n",
      "Epoch 41/50\n",
      "20/20 [==============================] - 4s 206ms/step - loss: 0.1942 - acc: 0.9317 - val_loss: 0.3769 - val_acc: 0.9276\n",
      "Epoch 42/50\n",
      "20/20 [==============================] - 4s 188ms/step - loss: 0.1834 - acc: 0.9706 - val_loss: 0.3241 - val_acc: 0.9249\n",
      "Epoch 43/50\n",
      "20/20 [==============================] - 4s 190ms/step - loss: 0.0946 - acc: 0.9731 - val_loss: 0.2505 - val_acc: 0.9412\n",
      "Epoch 44/50\n",
      "20/20 [==============================] - 4s 197ms/step - loss: 0.0465 - acc: 0.9810 - val_loss: 0.2578 - val_acc: 0.9449\n",
      "Epoch 45/50\n",
      "20/20 [==============================] - 4s 181ms/step - loss: 0.0494 - acc: 0.9873 - val_loss: 0.2715 - val_acc: 0.9446\n",
      "Epoch 46/50\n",
      "20/20 [==============================] - 4s 182ms/step - loss: 0.0522 - acc: 0.9889 - val_loss: 0.3101 - val_acc: 0.9427\n",
      "Epoch 47/50\n",
      "20/20 [==============================] - 4s 180ms/step - loss: 0.0486 - acc: 0.9858 - val_loss: 0.2441 - val_acc: 0.9526\n",
      "Epoch 48/50\n",
      "20/20 [==============================] - 4s 180ms/step - loss: 0.0355 - acc: 0.9817 - val_loss: 0.2505 - val_acc: 0.9500\n",
      "Epoch 49/50\n",
      "20/20 [==============================] - 4s 183ms/step - loss: 0.1563 - acc: 0.9529 - val_loss: 0.8619 - val_acc: 0.8524\n",
      "Epoch 50/50\n",
      "20/20 [==============================] - 4s 180ms/step - loss: 0.0818 - acc: 0.9747 - val_loss: 0.5320 - val_acc: 0.8917\n"
     ]
    }
   ],
   "source": [
    "history2 = new_model.fit_generator(datagen.flow(x_train,y_train, batch_size=32),\n",
    "                    epochs = 50, callbacks=[mcp],\n",
    "                    validation_data = (test_images,test_labels),\n",
    "                    verbose = 1, steps_per_epoch=20)"
   ]
  },
  {
   "cell_type": "markdown",
   "metadata": {},
   "source": [
    "### best accuracy"
   ]
  },
  {
   "cell_type": "code",
   "execution_count": 10,
   "metadata": {},
   "outputs": [
    {
     "name": "stdout",
     "output_type": "stream",
     "text": [
      "10000/10000 [==============================] - 1s 66us/step\n"
     ]
    },
    {
     "data": {
      "text/plain": [
       "0.9547"
      ]
     },
     "execution_count": 10,
     "metadata": {},
     "output_type": "execute_result"
    }
   ],
   "source": [
    "test_model = load_model(\"models/dcgan_aug_best.h5\")\n",
    "test_loss, test_acc = test_model.evaluate(test_images, test_labels)\n",
    "test_acc"
   ]
  },
  {
   "cell_type": "code",
   "execution_count": null,
   "metadata": {},
   "outputs": [],
   "source": []
  },
  {
   "cell_type": "code",
   "execution_count": null,
   "metadata": {},
   "outputs": [],
   "source": []
  },
  {
   "cell_type": "code",
   "execution_count": null,
   "metadata": {},
   "outputs": [],
   "source": []
  },
  {
   "cell_type": "code",
   "execution_count": null,
   "metadata": {},
   "outputs": [],
   "source": []
  },
  {
   "cell_type": "code",
   "execution_count": null,
   "metadata": {},
   "outputs": [],
   "source": []
  },
  {
   "cell_type": "code",
   "execution_count": null,
   "metadata": {},
   "outputs": [],
   "source": []
  },
  {
   "cell_type": "code",
   "execution_count": null,
   "metadata": {},
   "outputs": [],
   "source": []
  }
 ],
 "metadata": {
  "kernelspec": {
   "display_name": "Python 3",
   "language": "python",
   "name": "python3"
  },
  "language_info": {
   "codemirror_mode": {
    "name": "ipython",
    "version": 2
   },
   "file_extension": ".py",
   "mimetype": "text/x-python",
   "name": "python",
   "nbconvert_exporter": "python",
   "pygments_lexer": "ipython2",
   "version": "2.7.15rc1"
  }
 },
 "nbformat": 4,
 "nbformat_minor": 2
}
