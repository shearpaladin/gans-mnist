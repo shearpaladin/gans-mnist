{
 "cells": [
  {
   "cell_type": "code",
   "execution_count": 64,
   "metadata": {},
   "outputs": [],
   "source": [
    "from sklearn.utils import shuffle\n",
    "from keras.datasets import mnist\n",
    "import pandas as pd\n",
    "import matplotlib.pyplot as plt\n",
    "import matplotlib.image as mpimg\n",
    "from sklearn.model_selection import train_test_split\n",
    "from sklearn.metrics import confusion_matrix\n",
    "from keras.utils.np_utils import to_categorical # convert to one-hot-encoding\n",
    "from keras.layers import Input, Dense, LeakyReLU,ZeroPadding2D, Dropout, Flatten, Conv2D, MaxPool2D, Activation, BatchNormalization, MaxPooling2D, Reshape, UpSampling2D, MaxPooling2D\n",
    "from keras.optimizers import RMSprop, Adam\n",
    "from keras.preprocessing.image import ImageDataGenerator\n",
    "from keras.callbacks import ModelCheckpoint\n",
    "from keras import models\n",
    "from collections import Counter\n",
    "from keras.layers.core import Flatten\n",
    "from keras.optimizers import SGD\n",
    "from keras.models import load_model, Model, Sequential\n",
    "import numpy as np\n",
    "from PIL import Image\n",
    "import random\n",
    "import scikitplot as skplt\n",
    "from sklearn.metrics import classification_report\n",
    "import functools\n",
    "import keras.backend as K\n",
    "from itertools import product\n",
    "import tensorflow as tf\n",
    "from sklearn.metrics import accuracy_score"
   ]
  },
  {
   "cell_type": "markdown",
   "metadata": {},
   "source": [
    "### Data"
   ]
  },
  {
   "cell_type": "code",
   "execution_count": 3,
   "metadata": {},
   "outputs": [],
   "source": [
    "(train_images, train_labels), (test_images, test_labels) = mnist.load_data()\n",
    "train_images = train_images / 127.5 - 1.\n",
    "test_images = test_images / 127.5 - 1.\n",
    "\n",
    "train_images = np.expand_dims(train_images, axis=3)\n",
    "test_images = np.expand_dims(test_images, axis=3)\n",
    "\n",
    "# train_labels = to_categorical(train_labels) \n",
    "test_labels = to_categorical(test_labels)\n",
    "\n",
    "\n",
    "x, y = shuffle(train_images, train_labels, random_state=15)\n",
    "x_train = x[0:100]\n",
    "y_train = y[0:100].reshape(-1, 1)\n",
    "y_train = to_categorical(y_train) "
   ]
  },
  {
   "cell_type": "markdown",
   "metadata": {},
   "source": [
    "### Get best model"
   ]
  },
  {
   "cell_type": "code",
   "execution_count": 6,
   "metadata": {},
   "outputs": [],
   "source": [
    "new_model = load_model(\"models/best_classifier.h5\")"
   ]
  },
  {
   "cell_type": "code",
   "execution_count": 7,
   "metadata": {},
   "outputs": [],
   "source": [
    "optimizer = Adam(0.0001, 0.5)\n",
    "new_model.compile(loss='categorical_crossentropy',optimizer=optimizer,metrics=['categorical_accuracy'])"
   ]
  },
  {
   "cell_type": "code",
   "execution_count": 8,
   "metadata": {},
   "outputs": [
    {
     "name": "stdout",
     "output_type": "stream",
     "text": [
      "10000/10000 [==============================] - 1s 63us/step\n",
      "0.9529\n"
     ]
    }
   ],
   "source": [
    "test_loss, test_acc = model.evaluate(test_images, test_labels)\n",
    "print(test_acc)"
   ]
  },
  {
   "cell_type": "code",
   "execution_count": null,
   "metadata": {},
   "outputs": [],
   "source": []
  },
  {
   "cell_type": "markdown",
   "metadata": {},
   "source": [
    "### Predict data and retrain on"
   ]
  },
  {
   "cell_type": "code",
   "execution_count": 15,
   "metadata": {},
   "outputs": [],
   "source": [
    "datagen = ImageDataGenerator(\n",
    "        rotation_range=1,  # randomly rotate images in the range (degrees, 0 to 180)\n",
    "        zoom_range = 0.05, # Randomly zoom image \n",
    "        width_shift_range=0.1,  # randomly shift images horizontally (fraction of total width)\n",
    "        height_shift_range=0.1,  # randomly shift images vertically (fraction of total height)\n",
    "        horizontal_flip=False,  # randomly flip images\n",
    "        vertical_flip=False)  # randomly flip images\n",
    "best_acc = 0"
   ]
  },
  {
   "cell_type": "code",
   "execution_count": 18,
   "metadata": {},
   "outputs": [
    {
     "name": "stdout",
     "output_type": "stream",
     "text": [
      "Train on 59894 samples, validate on 10000 samples\n",
      "Epoch 1/1\n",
      "59894/59894 [==============================] - 7s 120us/step - loss: 0.0177 - categorical_accuracy: 0.9937 - val_loss: 0.0980 - val_categorical_accuracy: 0.9847\n",
      "10000/10000 [==============================] - 1s 52us/step\n",
      "Train on 59905 samples, validate on 10000 samples\n",
      "Epoch 1/1\n",
      "59905/59905 [==============================] - 7s 122us/step - loss: 0.0180 - categorical_accuracy: 0.9940 - val_loss: 0.0984 - val_categorical_accuracy: 0.9846\n",
      "10000/10000 [==============================] - 0s 48us/step\n",
      "Train on 59951 samples, validate on 10000 samples\n",
      "Epoch 1/1\n",
      "59951/59951 [==============================] - 7s 122us/step - loss: 0.0178 - categorical_accuracy: 0.9940 - val_loss: 0.0848 - val_categorical_accuracy: 0.9865\n",
      "10000/10000 [==============================] - 1s 55us/step\n",
      "Train on 59911 samples, validate on 10000 samples\n",
      "Epoch 1/1\n",
      "59911/59911 [==============================] - 7s 121us/step - loss: 0.0177 - categorical_accuracy: 0.9937 - val_loss: 0.1004 - val_categorical_accuracy: 0.9842\n",
      "10000/10000 [==============================] - 1s 53us/step\n",
      "Train on 59946 samples, validate on 10000 samples\n",
      "Epoch 1/1\n",
      "59946/59946 [==============================] - 7s 123us/step - loss: 0.0173 - categorical_accuracy: 0.9942 - val_loss: 0.1051 - val_categorical_accuracy: 0.9841\n",
      "10000/10000 [==============================] - 1s 55us/step\n",
      "Train on 59931 samples, validate on 10000 samples\n",
      "Epoch 1/1\n",
      "59931/59931 [==============================] - 7s 123us/step - loss: 0.0171 - categorical_accuracy: 0.9937 - val_loss: 0.1088 - val_categorical_accuracy: 0.9835\n",
      "10000/10000 [==============================] - 1s 54us/step\n",
      "Train on 59931 samples, validate on 10000 samples\n",
      "Epoch 1/1\n",
      "59931/59931 [==============================] - 7s 124us/step - loss: 0.0165 - categorical_accuracy: 0.9944 - val_loss: 0.1020 - val_categorical_accuracy: 0.9847\n",
      "10000/10000 [==============================] - 1s 53us/step\n",
      "Train on 59955 samples, validate on 10000 samples\n",
      "Epoch 1/1\n",
      "59955/59955 [==============================] - 7s 124us/step - loss: 0.0162 - categorical_accuracy: 0.9945 - val_loss: 0.1102 - val_categorical_accuracy: 0.9836\n",
      "10000/10000 [==============================] - 1s 52us/step\n",
      "Train on 59945 samples, validate on 10000 samples\n",
      "Epoch 1/1\n",
      "59945/59945 [==============================] - 7s 125us/step - loss: 0.0171 - categorical_accuracy: 0.9942 - val_loss: 0.1038 - val_categorical_accuracy: 0.9850\n",
      "10000/10000 [==============================] - 1s 53us/step\n",
      "Train on 59965 samples, validate on 10000 samples\n",
      "Epoch 1/1\n",
      "59965/59965 [==============================] - 8s 125us/step - loss: 0.0159 - categorical_accuracy: 0.9946 - val_loss: 0.0933 - val_categorical_accuracy: 0.9860\n",
      "10000/10000 [==============================] - 1s 54us/step\n"
     ]
    }
   ],
   "source": [
    "for x in range(10):\n",
    "    predictions = new_model.predict(train_images)\n",
    "    pred = []\n",
    "    for p in predictions:\n",
    "        pred.append( (max(p), np.argmax(p)) )\n",
    "    new_images = []\n",
    "    new_labels = []\n",
    "    for i, v in enumerate(pred):\n",
    "        if v[0] > 0.70:\n",
    "            if random.randint(0,1): # random.randint(0,1)\n",
    "                tr_aug = next(datagen.flow(train_images[i:i+1], batch_size=1))\n",
    "                tr_aug=tr_aug[0]\n",
    "            else:\n",
    "                tr_aug=train_images[i]\n",
    "            new_images.append(tr_aug)\n",
    "            new_labels.append(to_categorical(v[1],  num_classes=10))\n",
    "\n",
    "    for x, y in zip(x_train, y_train):\n",
    "        x_g = np.array([x])\n",
    "#         x_aug = next(datagen.flow(x_g, batch_size=1))\n",
    "        x_aug = x_g\n",
    "        new_images.append(x_aug[0])\n",
    "        new_labels.append(y)\n",
    "\n",
    "    n_train, n_label = shuffle(np.array(new_images), np.array(new_labels))\n",
    "    h=new_model.fit(n_train, n_label, batch_size=64, epochs=1, validation_data=(test_images, test_labels))\n",
    "    \n",
    "    _, test_acc = new_model.evaluate(test_images, test_labels)\n",
    "    if test_acc > best_acc:\n",
    "        new_model.save(\"models/best_final.h5\")"
   ]
  },
  {
   "cell_type": "code",
   "execution_count": 26,
   "metadata": {},
   "outputs": [],
   "source": []
  },
  {
   "cell_type": "markdown",
   "metadata": {},
   "source": [
    "### Explore erreur"
   ]
  },
  {
   "cell_type": "code",
   "execution_count": 89,
   "metadata": {},
   "outputs": [
    {
     "name": "stderr",
     "output_type": "stream",
     "text": [
      "/home/yannis/.local/lib/python2.7/site-packages/keras/engine/saving.py:292: UserWarning: No training configuration found in save file: the model was *not* compiled. Compile it manually.\n",
      "  warnings.warn('No training configuration found in save file: '\n"
     ]
    }
   ],
   "source": [
    "best = load_model(\"models/best_final.h5\")"
   ]
  },
  {
   "cell_type": "code",
   "execution_count": 90,
   "metadata": {},
   "outputs": [
    {
     "data": {
      "text/plain": [
       "0.9874"
      ]
     },
     "execution_count": 90,
     "metadata": {},
     "output_type": "execute_result"
    }
   ],
   "source": [
    "accuracy_score(np.argmax(test_labels,axis=1), np.argmax(best.predict(test_images), axis=1))"
   ]
  },
  {
   "cell_type": "code",
   "execution_count": 20,
   "metadata": {},
   "outputs": [],
   "source": [
    "pred = np.argmax(best.predict(test_images), axis=1)"
   ]
  },
  {
   "cell_type": "code",
   "execution_count": 22,
   "metadata": {},
   "outputs": [
    {
     "data": {
      "text/plain": [
       "<matplotlib.axes._subplots.AxesSubplot at 0x7f565c65f550>"
      ]
     },
     "execution_count": 22,
     "metadata": {},
     "output_type": "execute_result"
    },
    {
     "data": {
      "image/png": "[encoded data removed]",
      "text/plain": [
       "<Figure size 432x288 with 2 Axes>"
      ]
     },
     "metadata": {
      "needs_background": "light"
     },
     "output_type": "display_data"
    }
   ],
   "source": [
    "skplt.metrics.plot_confusion_matrix(np.argmax(test_labels, axis=1), pred)"
   ]
  },
  {
   "cell_type": "code",
   "execution_count": 24,
   "metadata": {},
   "outputs": [
    {
     "name": "stdout",
     "output_type": "stream",
     "text": [
      "              precision    recall  f1-score   support\n",
      "\n",
      "           0       0.99      1.00      1.00       980\n",
      "           1       1.00      0.97      0.98      1135\n",
      "           2       0.98      0.99      0.99      1032\n",
      "           3       0.96      1.00      0.98      1010\n",
      "           4       0.98      1.00      0.99       982\n",
      "           5       0.99      0.99      0.99       892\n",
      "           6       1.00      0.99      0.99       958\n",
      "           7       0.99      0.99      0.99      1028\n",
      "           8       0.97      0.99      0.98       974\n",
      "           9       1.00      0.95      0.97      1009\n",
      "\n",
      "   micro avg       0.99      0.99      0.99     10000\n",
      "   macro avg       0.99      0.99      0.99     10000\n",
      "weighted avg       0.99      0.99      0.99     10000\n",
      "\n"
     ]
    }
   ],
   "source": [
    "print(classification_report(np.argmax(test_labels, axis=1), pred))"
   ]
  },
  {
   "cell_type": "markdown",
   "metadata": {},
   "source": [
    "### Retrain with custom loss"
   ]
  },
  {
   "cell_type": "code",
   "execution_count": 54,
   "metadata": {},
   "outputs": [],
   "source": [
    "model2 = load_model(\"models/best_final.h5\")"
   ]
  },
  {
   "cell_type": "code",
   "execution_count": 55,
   "metadata": {},
   "outputs": [],
   "source": [
    "def w_categorical_crossentropy(y_true, y_pred, weights):\n",
    "    nb_cl = len(weights)\n",
    "    final_mask = K.zeros_like(y_pred[:, 0])\n",
    "    y_pred_max = K.max(y_pred, axis=1)\n",
    "    y_pred_max = K.expand_dims(y_pred_max, 1)\n",
    "    y_pred_max_mat = K.equal(y_pred, y_pred_max)\n",
    "    for c_p, c_t in product(range(nb_cl), range(nb_cl)):\n",
    "\n",
    "        final_mask += (K.cast(weights[c_t, c_p],K.floatx()) * K.cast(y_pred_max_mat[:, c_p] ,K.floatx())* K.cast(y_true[:, c_t],K.floatx()))\n",
    "    return K.categorical_crossentropy(y_pred, y_true) * final_mask"
   ]
  },
  {
   "cell_type": "code",
   "execution_count": 56,
   "metadata": {},
   "outputs": [],
   "source": [
    "w_array = np.ones((10,10))\n",
    "w_array[9, 3] = 1.3\n",
    "w_array[9, 4] = 1.3\n",
    "ncce = functools.partial(w_categorical_crossentropy, weights=w_array)"
   ]
  },
  {
   "cell_type": "code",
   "execution_count": 57,
   "metadata": {},
   "outputs": [],
   "source": [
    "optimizer = Adam(0.0001, 0.5)\n",
    "model2.compile(loss=ncce,optimizer=optimizer)"
   ]
  },
  {
   "cell_type": "code",
   "execution_count": null,
   "metadata": {},
   "outputs": [],
   "source": []
  },
  {
   "cell_type": "code",
   "execution_count": 100,
   "metadata": {},
   "outputs": [],
   "source": [
    "# best_acc_2 = 0.9874\n",
    "for x in range(2):\n",
    "    predictions = model2.predict(train_images)\n",
    "    pred = []\n",
    "    for p in predictions:\n",
    "        pred.append( (max(p), np.argmax(p)) )\n",
    "    new_images = []\n",
    "    new_labels = []\n",
    "    for i, v in enumerate(pred):\n",
    "        if v[0] > 0.60:\n",
    "            if False :# random.randint(0,1)\n",
    "                tr_aug = next(datagen.flow(train_images[i:i+1], batch_size=1))\n",
    "                tr_aug=tr_aug[0]\n",
    "            else:\n",
    "                tr_aug=train_images[i]\n",
    "            new_images.append(tr_aug)\n",
    "            new_labels.append(to_categorical(v[1],  num_classes=10))\n",
    "\n",
    "#     for x, y in zip(x_train, y_train):\n",
    "#         x_g = np.array([x])\n",
    "# #         x_aug = next(datagen.flow(x_g, batch_size=1))\n",
    "#         x_aug = x_g\n",
    "#         new_images.append(x_aug[0])\n",
    "#         new_labels.append(y)\n",
    "\n",
    "    n_train, n_label = shuffle(np.array(new_images), np.array(new_labels))\n",
    "    h=model2.fit(n_train, n_label, batch_size=64, epochs=1)\n",
    "    \n",
    "    test_acc = accuracy_score(np.argmax(test_labels,axis=1), np.argmax(model2.predict(test_images), axis=1))\n",
    "    print(test_acc)\n",
    "    if test_acc > best_acc_2:\n",
    "        model2.save_weights(\"models/best_final_weights.h5\")\n",
    "        best_acc_2=test_acc"
   ]
  },
  {
   "cell_type": "code",
   "execution_count": null,
   "metadata": {},
   "outputs": [],
   "source": []
  },
  {
   "cell_type": "markdown",
   "metadata": {},
   "source": [
    "### Best score : "
   ]
  },
  {
   "cell_type": "code",
   "execution_count": 93,
   "metadata": {},
   "outputs": [],
   "source": [
    "model2.load_weights(\"models/best_final_weights.h5\")\n",
    "test_acc = accuracy_score(np.argmax(test_labels,axis=1), np.argmax(model2.predict(test_images), axis=1))"
   ]
  },
  {
   "cell_type": "code",
   "execution_count": 94,
   "metadata": {},
   "outputs": [
    {
     "data": {
      "text/plain": [
       "0.99"
      ]
     },
     "execution_count": 94,
     "metadata": {},
     "output_type": "execute_result"
    }
   ],
   "source": [
    "test_acc"
   ]
  },
  {
   "cell_type": "code",
   "execution_count": null,
   "metadata": {},
   "outputs": [],
   "source": []
  }
 ],
 "metadata": {
  "kernelspec": {
   "display_name": "Python 3",
   "language": "python",
   "name": "python3"
  },
  "language_info": {
   "codemirror_mode": {
    "name": "ipython",
    "version": 2
   },
   "file_extension": ".py",
   "mimetype": "text/x-python",
   "name": "python",
   "nbconvert_exporter": "python",
   "pygments_lexer": "ipython2",
   "version": "2.7.15rc1"
  }
 },
 "nbformat": 4,
 "nbformat_minor": 2
}
